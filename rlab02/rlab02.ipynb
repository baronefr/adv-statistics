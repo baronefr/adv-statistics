{
 "cells": [
  {
   "cell_type": "markdown",
   "id": "e5109aa1-9d46-4442-8a09-6eb4187761d6",
   "metadata": {},
   "source": [
    "# **AdvStat4PhysAna - RLab 2**\n",
    "\n",
    "**Barone Francesco Pio**, student ID: 2058478\n",
    "\n",
    "31 march 2022"
   ]
  },
  {
   "cell_type": "code",
   "execution_count": 1,
   "id": "300dba1b-b7a2-4a25-bb73-6336e721d75f",
   "metadata": {},
   "outputs": [
    {
     "name": "stderr",
     "output_type": "stream",
     "text": [
      "Loading required package: KernSmooth\n",
      "\n",
      "KernSmooth 2.23 loaded\n",
      "Copyright M. P. Wand 1997-2009\n",
      "\n"
     ]
    }
   ],
   "source": [
    "# general requirements\n",
    "library(GoFKernel)  # to invert a function"
   ]
  },
  {
   "cell_type": "markdown",
   "id": "5fc0ae06-7a8b-4b88-adf8-0e9b47a3321a",
   "metadata": {},
   "source": [
    "<a id='exr1'></a>\n",
    "## **EXR01** - contaminant in tap water"
   ]
  },
  {
   "cell_type": "code",
   "execution_count": 2,
   "id": "a9e65a98-3cc1-48cf-a648-6717b6db2635",
   "metadata": {},
   "outputs": [],
   "source": [
    "x  <- c(15.58, 15.9,   16, 16.1, 16.2)\n",
    "p1 <- c( 0.15, 0.21, 0.35, 0.15, 0.14)\n",
    "p2 <- c( 0.14, 0.05, 0.64, 0.08, 0.09)"
   ]
  },
  {
   "cell_type": "markdown",
   "id": "d09734f9-b5f2-4180-9535-7e808c1b02c6",
   "metadata": {},
   "source": [
    "$$E[x] = \\sum_i x_i p(x_i)$$\n",
    "$$ Var(x) = E[x^2] - E[x]$$"
   ]
  },
  {
   "cell_type": "code",
   "execution_count": 3,
   "id": "995318de-e95f-4b25-84a2-71e65d4ad24d",
   "metadata": {},
   "outputs": [],
   "source": [
    "E_p1 <- sum(x*p1)\n",
    "E_p2 <- sum(x*p2)\n",
    "\n",
    "var_p1 <- sum(x*x*p1) - E_p1**2\n",
    "var_p2 <- sum(x*x*p2) - E_p2**2"
   ]
  },
  {
   "cell_type": "code",
   "execution_count": 4,
   "id": "39bf0c84-13af-4612-8565-b04d1af5368a",
   "metadata": {},
   "outputs": [
    {
     "name": "stdout",
     "output_type": "stream",
     "text": [
      "Method 1: E[x] = 15.959 , Var(x) = 0.033979 \n",
      "Method 2: E[x] = 15.9622 , Var(x) = 0.02816716"
     ]
    }
   ],
   "source": [
    "cat('Method 1: E[x] =', E_p1, ', Var(x) =', var_p1, '\\n')\n",
    "cat('Method 2: E[x] =', E_p2, ', Var(x) =', var_p2)"
   ]
  },
  {
   "cell_type": "markdown",
   "id": "8f0c30df-d7cb-4b3c-90d3-f55e939befa2",
   "metadata": {},
   "source": [
    "<a id='exr2'></a>\n",
    "## **EXR02** - waiting time at the doctor"
   ]
  },
  {
   "cell_type": "code",
   "execution_count": 5,
   "id": "1036fb50-39ca-413f-a2ad-a77294eeaceb",
   "metadata": {},
   "outputs": [],
   "source": [
    "lambda <- 1/30  # in minutes"
   ]
  },
  {
   "cell_type": "markdown",
   "id": "60a4ebf8-19f2-47df-8a69-9b9a07a422db",
   "metadata": {},
   "source": [
    "**2.1 |**  Simulate the waiting time for 50 people at the doctor’s office and plot the relative histogram"
   ]
  },
  {
   "cell_type": "code",
   "execution_count": 6,
   "id": "b1980c0b-272c-41d4-982a-6d40cda4ba1b",
   "metadata": {},
   "outputs": [
    {
     "data": {
      "image/png": "[encoded data removed]",
      "text/plain": [
       "Plot with title “Wait times at Doctor Octopus medical studio ”"
      ]
     },
     "metadata": {
      "image/png": {
       "height": 420,
       "width": 420
      }
     },
     "output_type": "display_data"
    }
   ],
   "source": [
    "wait_times <- rexp(50, lambda)\n",
    "\n",
    "hist( wait_times, col='gold', xlab = 'wait times',\n",
    "      main=paste('Wait times at Doctor Octopus medical studio ') )"
   ]
  },
  {
   "cell_type": "markdown",
   "id": "1038f824-0879-4439-b253-82479cf45e99",
   "metadata": {},
   "source": [
    "**2.2 |** What is the probability that a person will wait for less than 10 minutes ?"
   ]
  },
  {
   "cell_type": "code",
   "execution_count": 7,
   "id": "1b81367f-ea99-40b8-9aac-9e481aeeb785",
   "metadata": {},
   "outputs": [
    {
     "data": {
      "text/html": [
       "0.283468689426211"
      ],
      "text/latex": [
       "0.283468689426211"
      ],
      "text/markdown": [
       "0.283468689426211"
      ],
      "text/plain": [
       "[1] 0.2834687"
      ]
     },
     "metadata": {},
     "output_type": "display_data"
    }
   ],
   "source": [
    "pexp(10, lambda)  # use the cumulative distribution function"
   ]
  },
  {
   "cell_type": "markdown",
   "id": "18ff5e26-88c9-4a31-adca-631fc1de301a",
   "metadata": {},
   "source": [
    "**2.3 |** evaluate the average waiting time from the simulated data and compare it with\n",
    "the expected value (calculated from theory and by manipulating the probability\n",
    "distributions using R)"
   ]
  },
  {
   "cell_type": "code",
   "execution_count": 8,
   "id": "1627c924-ca40-4ea7-86e7-6af0eeb8f070",
   "metadata": {},
   "outputs": [
    {
     "name": "stdout",
     "output_type": "stream",
     "text": [
      "from simulation:  31.93736 \n",
      "from theory:  30"
     ]
    }
   ],
   "source": [
    "e_simulated <- mean(wait_times)\n",
    "e_theory <- 1/lambda\n",
    "\n",
    "cat('from simulation: ', e_simulated, '\\n')\n",
    "cat('from theory: ', e_theory)"
   ]
  },
  {
   "cell_type": "markdown",
   "id": "2478b447-2cc6-43ba-a19a-8b3ba449c451",
   "metadata": {},
   "source": [
    "**2.4 |** what is the probability for waiting more than one hour before being received?"
   ]
  },
  {
   "cell_type": "code",
   "execution_count": 9,
   "id": "694a9f75-f6a4-47b9-8a11-caae5afb7710",
   "metadata": {},
   "outputs": [
    {
     "data": {
      "text/html": [
       "0.135335283236613"
      ],
      "text/latex": [
       "0.135335283236613"
      ],
      "text/markdown": [
       "0.135335283236613"
      ],
      "text/plain": [
       "[1] 0.1353353"
      ]
     },
     "metadata": {},
     "output_type": "display_data"
    }
   ],
   "source": [
    "1 - pexp(60, lambda)"
   ]
  },
  {
   "cell_type": "markdown",
   "id": "c15bc637-ba0f-40a3-8a58-f89beeffaaea",
   "metadata": {},
   "source": [
    "<a id='exr3'></a>\n",
    "## **EXR03** - typo in book\n",
    "\n",
    "Let’s suppose that on a book, on average, there is one typo error every three pages.\n",
    "If the number of errors follows a Poisson distribution, plot the pdf and cdf, and\n",
    "calculate the probability that there is at least one error on a specific page of the\n",
    "book."
   ]
  },
  {
   "cell_type": "markdown",
   "id": "8ca8dfe2-2b9e-459e-9c05-d950fa97bd5f",
   "metadata": {},
   "source": [
    "$$Poi(r|\\lambda) = \\frac{\\lambda^r}{r!}e^{-\\lambda}$$\n",
    "\n",
    "Where\n",
    "\n",
    "$r$ is intensity of the process (number of events per unit time)\n",
    "\n",
    "$\\lambda$ is the average number of events per unit time"
   ]
  },
  {
   "cell_type": "code",
   "execution_count": 10,
   "id": "bbfeb4ed-a757-436b-aba8-3ba3643fa4a4",
   "metadata": {},
   "outputs": [
    {
     "data": {
      "image/png": "[encoded data removed]",
      "text/plain": [
       "Plot with title “PDF Poisson”"
      ]
     },
     "metadata": {
      "image/png": {
       "height": 300,
       "width": 540
      }
     },
     "output_type": "display_data"
    },
    {
     "data": {
      "image/png": "[encoded data removed]",
      "text/plain": [
       "Plot with title “CDF Poisson”"
      ]
     },
     "metadata": {
      "image/png": {
       "height": 300,
       "width": 540
      }
     },
     "output_type": "display_data"
    }
   ],
   "source": [
    "lambda <- 1/3  # one every 3 pages\n",
    "x <- seq(0, 7)\n",
    "\n",
    "pdff <- dpois(x, lambda) # probability density function\n",
    "cdff <- ppois(x, lambda) #  cumulative density function \n",
    "\n",
    "options(repr.plot.width=9, repr.plot.height=5)\n",
    "plot(x, pdff, type=\"s\",  lwd=3, col=\"#0066FF\", main='PDF Poisson',\n",
    "     xlab=\"number of typos\", ylab=\"probability\", ylim = c(0,1))\n",
    "plot(x, cdff, type=\"s\",  lwd=3, col=\"#FF22AA\", main='CDF Poisson',\n",
    "     xlab=\"number of typos\", ylab=\"cumulative probability\", ylim = c(0,1))"
   ]
  },
  {
   "cell_type": "code",
   "execution_count": 11,
   "id": "0ae30ab0-9e72-4668-9b5d-769d9831664d",
   "metadata": {},
   "outputs": [
    {
     "name": "stdout",
     "output_type": "stream",
     "text": [
      "The probability that a page contains at least one error is 0.2834687"
     ]
    }
   ],
   "source": [
    "prob <- 1 - ppois(0, lambda)\n",
    "cat('The probability that a page contains at least one error is', prob )"
   ]
  },
  {
   "cell_type": "markdown",
   "id": "0c4adbea-057d-41cc-92ba-357318576456",
   "metadata": {},
   "source": [
    "<a id='exr4'></a>\n",
    "## **EXR04** - draw randomly \n",
    "\n",
    "We randomly draw cards from a deck of 52 cards, with replacement, until one ace is\n",
    "drawn. Calculate the probability that at least 10 draws are needed."
   ]
  },
  {
   "cell_type": "markdown",
   "id": "59038b85-e238-4049-b969-214ef7196f05",
   "metadata": {},
   "source": [
    "The probability of obtaining *the first ace* in *exactly* $n=10$ trials, is given by the Negative Binomial distribution."
   ]
  },
  {
   "cell_type": "code",
   "execution_count": 12,
   "id": "9a3c2a9a-adf2-4c69-a012-47248cc0718d",
   "metadata": {},
   "outputs": [
    {
     "name": "stdout",
     "output_type": "stream",
     "text": [
      "probability of first success at 10 th trial: 0.0374280922618219"
     ]
    }
   ],
   "source": [
    "n <- 10   # number of trials\n",
    "r <- 1    # number of successes\n",
    "p <- 4/52 # probability of event: 4 aces in 52 cards\n",
    "prob <- dnbinom(x = n-r, size = r, prob = p)\n",
    "\n",
    "cat(paste('probability of first success at', n, 'th trial:', prob))"
   ]
  },
  {
   "cell_type": "markdown",
   "id": "93357876-7681-4032-bfc0-1091f8e63399",
   "metadata": {},
   "source": [
    "To get the probability that **at least** 10 draws are needed, we have to sum the probabilities from 10 to infinity. Otherwise, we could simply do $1 - P(x<10)$."
   ]
  },
  {
   "cell_type": "code",
   "execution_count": 13,
   "id": "43d4e16d-8b3c-46df-98c4-de65364258ae",
   "metadata": {},
   "outputs": [
    {
     "data": {
      "text/html": [
       "0.486565199403685"
      ],
      "text/latex": [
       "0.486565199403685"
      ],
      "text/markdown": [
       "0.486565199403685"
      ],
      "text/plain": [
       "[1] 0.4865652"
      ]
     },
     "metadata": {},
     "output_type": "display_data"
    }
   ],
   "source": [
    "# method 1: using the cumulative distribution function\n",
    "1 - pnbinom(n-r-1, r, p)  # 1 - P(first success within 9 trials)"
   ]
  },
  {
   "cell_type": "code",
   "execution_count": 14,
   "id": "f575be23-5b6b-42ee-bfe9-c11ae9baff79",
   "metadata": {},
   "outputs": [
    {
     "data": {
      "text/html": [
       "0.486565199403685"
      ],
      "text/latex": [
       "0.486565199403685"
      ],
      "text/markdown": [
       "0.486565199403685"
      ],
      "text/plain": [
       "[1] 0.4865652"
      ]
     },
     "metadata": {},
     "output_type": "display_data"
    }
   ],
   "source": [
    "# method 2:   sum  10,11,12,... draws  for first success\n",
    "su <- 0\n",
    "for(n in 10:1000)\n",
    "    { su <- su + dnbinom(x = n-r, 1, p) }\n",
    "su"
   ]
  },
  {
   "cell_type": "markdown",
   "id": "89e7c612-c083-47e8-8689-417be08863eb",
   "metadata": {},
   "source": [
    "<a id='exr5'></a>\n",
    "## **EXR05** - TOLC-I\n",
    "\n",
    "The time it takes a student to complete a TOLC-I University orientation and evaluation test follows a density function of the form\n",
    "$$ f(X) = c(t − 1)(2 − t) \\;\\;\\; \\text{for} \\;\\;\\; 1 < t < 2 \\;,$$ $f(X)=0$ otherwise, where $t$ is the time in hours."
   ]
  },
  {
   "cell_type": "markdown",
   "id": "d95ea240-5aa7-4c0a-aab7-2c71184208ab",
   "metadata": {},
   "source": [
    "**5.1 |** using the $integrate()$ R function, determine the constant $c$ (and verify it analytically)"
   ]
  },
  {
   "cell_type": "code",
   "execution_count": 15,
   "id": "a57fc659-e250-45bc-88c7-22b306781797",
   "metadata": {},
   "outputs": [
    {
     "name": "stdout",
     "output_type": "stream",
     "text": [
      "Normalization coefficient: c = 6"
     ]
    }
   ],
   "source": [
    "f <- function(t, c=1) {  (1<t & t<2)*( c*(t-1)*(2-t)) + 0  }\n",
    "\n",
    "norm_integral <- integrate(f, lower = 1, upper = 2)\n",
    "c_norm <- 1/norm_integral$value\n",
    "\n",
    "cat( paste('Normalization coefficient: c =',c_norm) )"
   ]
  },
  {
   "cell_type": "markdown",
   "id": "4e31c378-9391-4f15-9b73-db0076b867b5",
   "metadata": {},
   "source": [
    "Theoretically \n",
    "\n",
    "$$ \\int_1^2 3t - t^2 -2 = \\left[\\frac{3}{2}t^2 -\\frac{t^3}{3} -2t\\right]_1^2 = 6 - \\frac{8}{3} - 4 - \\frac{3}{2} + \\frac{1}{3} + 2 = \\frac{24-16+2-9}{6} = 1/6$$\n",
    "$$ \\Rightarrow c = 6$$"
   ]
  },
  {
   "cell_type": "markdown",
   "id": "2beaab1b-71bb-4691-9249-160428668733",
   "metadata": {},
   "source": [
    "**5.2 |** write the set of four R functions and plot the pdf and cdf, respectively"
   ]
  },
  {
   "cell_type": "code",
   "execution_count": 16,
   "id": "94bea2d3-4d5d-4570-bb1b-2ff587bb3d28",
   "metadata": {},
   "outputs": [],
   "source": [
    "# pdf\n",
    "dtolc <- function(t, c=6) {  (1<t & t<2)*( c*(t-1)*(2-t)) + 0  }\n",
    "# cdf\n",
    "ptolc <- function(t, c=6)\n",
    "   { (1<t & t<2)*(((3*(t^2)/2)-((t^3)/3)-(2*t))*6 + 5) + (t>=2)*1 + 0 }\n",
    "\n",
    "# note that the expressions above function as vectorial expression!\n",
    "\n",
    "# quantile\n",
    "qtolc <- inverse(ptolc,lower=1,upper=2)\n",
    "# random\n",
    "rtolc <- function(t) { qtolc(runif(t)) }"
   ]
  },
  {
   "cell_type": "code",
   "execution_count": 17,
   "id": "fcfff3df-14e2-4363-9a64-30af1d211d4c",
   "metadata": {},
   "outputs": [
    {
     "data": {
      "image/png": "[encoded data removed]",
      "text/plain": [
       "Plot with title “probability density function”"
      ]
     },
     "metadata": {
      "image/png": {
       "height": 300,
       "width": 540
      }
     },
     "output_type": "display_data"
    },
    {
     "data": {
      "image/png": "[encoded data removed]",
      "text/plain": [
       "Plot with title “comulative distribution function”"
      ]
     },
     "metadata": {
      "image/png": {
       "height": 300,
       "width": 540
      }
     },
     "output_type": "display_data"
    }
   ],
   "source": [
    "xx <- seq(0.5,2.5,0.01)\n",
    "\n",
    "plot( xx, dtolc(xx), col = \"royalblue\", pch=16,\n",
    "    xlab=\"t\", ylab=\"f(t)\", main = 'probability density function')\n",
    "\n",
    "plot( xx, ptolc(xx), col = \"royalblue\", pch=16,\n",
    "    xlab=\"t\", ylab=\"f(t)\", main = 'comulative distribution function')"
   ]
  },
  {
   "cell_type": "markdown",
   "id": "bd1ce6be-03d0-43e0-af18-051e4d81bdeb",
   "metadata": {},
   "source": [
    "**5.3 |** Evaluate the probability that the student will finish the aptitude test in more than 75 minutes. And that it will take 90 and 120 minutes."
   ]
  },
  {
   "cell_type": "code",
   "execution_count": 18,
   "id": "fc091073-1d2b-4105-ac45-c679527bb2db",
   "metadata": {},
   "outputs": [
    {
     "name": "stdout",
     "output_type": "stream",
     "text": [
      "probability for 75 or more minutes: 0.84375 \n",
      "probability for 90 to 120 minutes: 0.5 \n"
     ]
    }
   ],
   "source": [
    "p_more75min <- integrate(dtolc, lower = 1.25, upper = 2)$value\n",
    "\n",
    "# maybe you mean BETWEEN 90 and 120 minutes?\n",
    "p_90_120min <- integrate(dtolc, lower = 1.5, upper = 2)$value\n",
    "\n",
    "cat('probability for 75 or more minutes:', p_more75min, '\\n')\n",
    "cat('probability for 90 to 120 minutes:', p_90_120min, '\\n')"
   ]
  },
  {
   "cell_type": "markdown",
   "id": "d1d12492-86fd-48e0-ad73-b21466bd9e94",
   "metadata": {},
   "source": [
    "<a id='exr4'></a>\n",
    "## **EXR06** - lifetime of used tires\n",
    "\n",
    "The lifetime of tires sold by an used tires shop is $10^4\\cdot x \\cdot km$, where $x$ is a random variable following the distribution function\n",
    "$$ f(X) = 2/x^2 \\;\\;\\; \\text{for} \\;\\;\\; 1 < x < 2 \\;,$$ $f(X)=0$ otherwise."
   ]
  },
  {
   "cell_type": "markdown",
   "id": "251a07fe-946c-4397-9a20-cb78aa4b20bf",
   "metadata": {},
   "source": [
    "**6.1 |** write the set of four R functions and plot the pdf and cdf, respectively"
   ]
  },
  {
   "cell_type": "code",
   "execution_count": 19,
   "id": "1c7cad13-1a82-4942-b8ae-c1f8e8db8997",
   "metadata": {},
   "outputs": [],
   "source": [
    "# pdf\n",
    "dtires <- function(x)\n",
    "    { (1<x & x<2)*( 2/(x^2) ) + 0  }\n",
    "# cdf\n",
    "ptires <- function(x)\n",
    "    { (1<x & x<2)*( -2/x + 2 ) + (x>=2)*1 + 0 }\n",
    "\n",
    "# quantile\n",
    "qtires <- Vectorize(inverse(ptires, lower=1, upper=2))\n",
    "  # note: I added Vectorize to make the function callable with an input array of values\n",
    "\n",
    "# random\n",
    "rtires <- function(t) { qtires(runif(t)) }"
   ]
  },
  {
   "cell_type": "code",
   "execution_count": 20,
   "id": "c216fd8a-168f-4c0e-98eb-433d948fd36e",
   "metadata": {},
   "outputs": [
    {
     "data": {
      "image/png": "[encoded data removed]",
      "text/plain": [
       "Plot with title “probability density function”"
      ]
     },
     "metadata": {
      "image/png": {
       "height": 300,
       "width": 540
      }
     },
     "output_type": "display_data"
    },
    {
     "data": {
      "image/png": "[encoded data removed]",
      "text/plain": [
       "Plot with title “comulative distribution function”"
      ]
     },
     "metadata": {
      "image/png": {
       "height": 300,
       "width": 540
      }
     },
     "output_type": "display_data"
    }
   ],
   "source": [
    "xx <- seq(0.5,2.5,0.01)\n",
    "\n",
    "plot( xx, dtires(xx), col = \"orange\", pch=16,\n",
    "    xlab=\"x [10^4 Km]\", ylab=\"f(x)\", main = 'probability density function')\n",
    "\n",
    "plot( xx, ptires(xx), col = \"orange\", pch=16,\n",
    "    xlab=\"x [10^4 Km]\", ylab=\"f(x)\", main = 'comulative distribution function')"
   ]
  },
  {
   "cell_type": "markdown",
   "id": "007df0e6-7bd6-478b-8874-a125f5a71fc1",
   "metadata": {},
   "source": [
    "**6.2 |** determine the probability that tires will last less than 15000 km"
   ]
  },
  {
   "cell_type": "code",
   "execution_count": 21,
   "id": "d18a04b7-cb58-429b-b7f2-028576c83f91",
   "metadata": {},
   "outputs": [
    {
     "data": {
      "text/html": [
       "0.666666666666667"
      ],
      "text/latex": [
       "0.666666666666667"
      ],
      "text/markdown": [
       "0.666666666666667"
      ],
      "text/plain": [
       "[1] 0.6666667"
      ]
     },
     "metadata": {},
     "output_type": "display_data"
    }
   ],
   "source": [
    "ptires(1.5)  # using cdf"
   ]
  },
  {
   "cell_type": "markdown",
   "id": "6c2d9b3d-f893-4a44-a7c7-4c1a10645716",
   "metadata": {},
   "source": [
    "**6.3 |** sample 3000 random variables from the distribution and determine the mean value and the variance, using the expression $Var(X) = E[X^2] - E[X]^2$"
   ]
  },
  {
   "cell_type": "code",
   "execution_count": 22,
   "id": "dcc8d062-ad10-4a03-b4b7-7d302612de0e",
   "metadata": {},
   "outputs": [
    {
     "name": "stdout",
     "output_type": "stream",
     "text": [
      "mean = 1.39322 \n",
      "Var = 0.08117507 \n"
     ]
    }
   ],
   "source": [
    "samples <- rtires(3000)\n",
    "\n",
    "cat('mean =', mean(samples), '\\n')\n",
    "cat('Var =', mean(samples^2)- mean(samples)^2, '\\n')"
   ]
  },
  {
   "cell_type": "markdown",
   "id": "2959fae7-6024-4306-8256-992dc3c95fd7",
   "metadata": {},
   "source": [
    "End of file."
   ]
  }
 ],
 "metadata": {
  "kernelspec": {
   "display_name": "R",
   "language": "R",
   "name": "ir"
  },
  "language_info": {
   "codemirror_mode": "r",
   "file_extension": ".r",
   "mimetype": "text/x-r-source",
   "name": "R",
   "pygments_lexer": "r",
   "version": "4.1.3"
  }
 },
 "nbformat": 4,
 "nbformat_minor": 5
}
